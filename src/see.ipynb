{
 "cells": [
  {
   "cell_type": "markdown",
   "metadata": {},
   "source": [
    "## Setup and Imports"
   ]
  },
  {
   "cell_type": "code",
   "execution_count": null,
   "metadata": {},
   "outputs": [],
   "source": [
    "import pandas as pd\n",
    "import numpy as np\n",
    "from datetime import datetime\n",
    "import matplotlib.pyplot as plt\n",
    "import seaborn as sns\n",
    "from sklearn.cluster import KMeans, DBSCAN\n",
    "from sklearn.preprocessing import StandardScaler\n",
    "from sklearn.metrics import silhouette_score\n",
    "import warnings\n",
    "warnings.filterwarnings('ignore')\n"
   ]
  },
  {
   "cell_type": "markdown",
   "metadata": {},
   "source": [
    "## Data Loading and pre-processing"
   ]
  },
  {
   "cell_type": "code",
   "execution_count": null,
   "metadata": {},
   "outputs": [],
   "source": [
    "import pandas as pd\n",
    "\n",
    "def load_data():\n",
    "    \"\"\"\n",
    "    Load and prepare the diabetes dataset from UCI repository\n",
    "    \"\"\"\n",
    "    url = \"https://archive.ics.uci.edu/ml/machine-learning-databases/00296/dataset_diabetes.zip\"\n",
    "    df = pd.read_csv(url, compression='zip')\n",
    "    \n",
    "    # Extract medication events\n",
    "    med_events = df[['patient_nbr', 'admission_type_id', 'time_in_hospital', 'medical_specialty']]\n",
    "    \n",
    "    # Create prescription dates (simulated)\n",
    "    base_date = datetime(2020, 1, 1)\n",
    "    np.random.seed(42)\n",
    "    dates = [base_date + pd.Timedelta(days=int(x)) for x in np.random.normal(30, 10, len(med_events))]\n",
    "    med_events['prescription_date'] = dates\n",
    "    \n",
    "    # Simulate two medications (A and B)\n",
    "    med_events['medication'] = np.random.choice(['medA', 'medB'], size=len(med_events))\n",
    "    \n",
    "    return med_events\n",
    "\n",
    "# Load the data\n",
    "data = load_data()\n",
    "\n",
    "# Display first few rows and basic information\n",
    "print(\"Dataset Overview:\")\n",
    "print(data.head())\n",
    "print(\"\\nDataset Info:\")\n",
    "print(data.info())\n"
   ]
  }
 ],
 "metadata": {
  "kernelspec": {
   "display_name": "base",
   "language": "python",
   "name": "python3"
  },
  "language_info": {
   "codemirror_mode": {
    "name": "ipython",
    "version": 3
   },
   "file_extension": ".py",
   "mimetype": "text/x-python",
   "name": "python",
   "nbconvert_exporter": "python",
   "pygments_lexer": "ipython3",
   "version": "3.11.5"
  }
 },
 "nbformat": 4,
 "nbformat_minor": 2
}
